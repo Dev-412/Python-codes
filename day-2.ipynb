{
 "cells": [
  {
   "cell_type": "code",
   "execution_count": null,
   "metadata": {},
   "outputs": [],
   "source": [
    "entryHour= int(input(\"enter hour\"))\n",
    "entryMin=int(input(\"enter min\"))\n",
    "entrySec=int(input(\"enter sec\"))\n",
    "exitHour=int(input(\"enter hour\"))\n",
    "exitMin=int(input(\"enter min\"))\n",
    "exitSec=int(input(\"enter sec\"))\n",
    "\n",
    "price = 50\n",
    "\n",
    "totalTime = (((exitHour-entryHour)*60)+((exitSec-entrySec)/60)+(exitMin-entryMin))\n",
    "cost = (totalTime/30)*50\n",
    "\n",
    "print(cost)\n"
   ]
  },
  {
   "cell_type": "code",
   "execution_count": null,
   "metadata": {},
   "outputs": [],
   "source": [
    "for i in range(1,11):\n",
    "    if(i%2==0):\n",
    "        print(f\"even {i}\")\n",
    "    else: \n",
    "        print(f\"odd {i}\")"
   ]
  },
  {
   "cell_type": "code",
   "execution_count": null,
   "metadata": {},
   "outputs": [],
   "source": [
    "num = int(input(\"enter no\"))\n",
    "\n",
    "for i in range(20,0,-1):\n",
    "    print(f\"{num} x {i} = {num*i}\")"
   ]
  },
  {
   "cell_type": "code",
   "execution_count": null,
   "metadata": {},
   "outputs": [],
   "source": [
    "for i in range(1,11):\n",
    "    if(i ==3 or i==6):\n",
    "        continue\n",
    "    else:\n",
    "        print(i)"
   ]
  },
  {
   "cell_type": "code",
   "execution_count": 2,
   "metadata": {},
   "outputs": [
    {
     "name": "stdout",
     "output_type": "stream",
     "text": [
      "enter num456\n",
      "654\n"
     ]
    }
   ],
   "source": [
    "num = int(input(\"enter num\"))\n",
    "sum1=0\n",
    "while num>0:\n",
    "    digit = num%10\n",
    "    sum1 = (sum1*10)+digit\n",
    "    num = num//10\n",
    "    \n",
    "print(sum1)"
   ]
  },
  {
   "cell_type": "code",
   "execution_count": 3,
   "metadata": {},
   "outputs": [
    {
     "name": "stdout",
     "output_type": "stream",
     "text": [
      "enter num111\n",
      "3\n"
     ]
    }
   ],
   "source": [
    "num = int(input(\"enter num\"))\n",
    "sum1=0\n",
    "while num>0:\n",
    "    digit = num%10\n",
    "    sum1 = (sum1)+(digit**3)\n",
    "    num = num//10\n",
    "    \n",
    "print(sum1)"
   ]
  },
  {
   "cell_type": "code",
   "execution_count": 27,
   "metadata": {},
   "outputs": [
    {
     "name": "stdout",
     "output_type": "stream",
     "text": [
      "enter num1234\n",
      "First Digit=1\n",
      "Last digit = 4\n",
      "center 23\n",
      "4231\n"
     ]
    }
   ],
   "source": [
    "num = int(input(\"enter num\"))\n",
    "count=0\n",
    "sum1=0\n",
    "temp1 = num\n",
    "temp2 = num\n",
    "temp3 = num\n",
    "while(temp1>0):\n",
    "    count = count+1\n",
    "    temp1=temp1//10\n",
    "\n",
    "for i in range(count-1):\n",
    "    temp2=temp2//10\n",
    "    \n",
    "print(f\"First Digit={temp2}\")\n",
    "print(f\"Last digit = {num%10}\")\n",
    "\n",
    "temp3 =(temp3)-(temp2*(10**(count-1)))\n",
    "temp3 = temp3//10\n",
    "print(f\"center {temp3}\")\n",
    "\n",
    "temp4 = ((num%10)*(10**(count-1)))+((temp3*10)+temp2)\n",
    "print(temp4)"
   ]
  },
  {
   "cell_type": "code",
   "execution_count": 29,
   "metadata": {},
   "outputs": [
    {
     "name": "stdout",
     "output_type": "stream",
     "text": [
      "enter num12345\n",
      "12\n"
     ]
    }
   ],
   "source": [
    "num = int(input(\"enter num\"))\n",
    "count=0\n",
    "temp1 = num\n",
    "temp2=num\n",
    "while(temp1>0):\n",
    "    count = count+1\n",
    "    temp1=temp1//10\n",
    "\n",
    "for i in range(count-2):\n",
    "    temp2=temp2//10\n",
    "\n",
    "print(temp2)"
   ]
  },
  {
   "cell_type": "code",
   "execution_count": 32,
   "metadata": {},
   "outputs": [
    {
     "name": "stdout",
     "output_type": "stream",
     "text": [
      "enter num2222\n",
      "64\n"
     ]
    }
   ],
   "source": [
    "num = int(input(\"enter num\"))\n",
    "count=0\n",
    "temp1 = num\n",
    "temp2=num\n",
    "sum1=0\n",
    "while(temp1>0):\n",
    "    count = count+1\n",
    "    temp1=temp1//10\n",
    "\n",
    "for i in range(count):\n",
    "        digit = temp2%10\n",
    "        sum1 = (sum1)+(digit**count)\n",
    "        num = num//10\n",
    "\n",
    "print(sum1)"
   ]
  },
  {
   "cell_type": "code",
   "execution_count": null,
   "metadata": {},
   "outputs": [],
   "source": []
  }
 ],
 "metadata": {
  "kernelspec": {
   "display_name": "Python 3",
   "language": "python",
   "name": "python3"
  },
  "language_info": {
   "codemirror_mode": {
    "name": "ipython",
    "version": 3
   },
   "file_extension": ".py",
   "mimetype": "text/x-python",
   "name": "python",
   "nbconvert_exporter": "python",
   "pygments_lexer": "ipython3",
   "version": "3.8.5"
  }
 },
 "nbformat": 4,
 "nbformat_minor": 4
}
