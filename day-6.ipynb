{
 "cells": [
  {
   "cell_type": "code",
   "execution_count": null,
   "metadata": {},
   "outputs": [],
   "source": [
    "n=5\n",
    "\n",
    "for i in range(1,n+1):\n",
    "    \n",
    "    for j in range(65,i+65):\n",
    "        print(chr(j),end=\" \")\n",
    "        \n",
    "    print()"
   ]
  },
  {
   "cell_type": "code",
   "execution_count": null,
   "metadata": {},
   "outputs": [],
   "source": [
    "chr(65)"
   ]
  },
  {
   "cell_type": "code",
   "execution_count": null,
   "metadata": {},
   "outputs": [],
   "source": [
    "hr = int(input(\"Enter time\"))\n",
    "x= input(\"Enter am or pm: \")\n",
    "add = int(input(\"Enter increment\"))\n",
    "\n",
    "for i in range(1,add+1):\n",
    "    hr=hr+1\n",
    "    if(hr>12):\n",
    "        hr=1\n",
    "    \n",
    "    if(hr==12):\n",
    "        if(x==\"am\"):\n",
    "            x=\"pm\"\n",
    "        else:\n",
    "            x=\"am\"\n",
    "print(f\"new time: {hr} {x}\")"
   ]
  },
  {
   "cell_type": "code",
   "execution_count": null,
   "metadata": {},
   "outputs": [],
   "source": [
    "no =19999\n",
    "ans=0\n",
    "mul=1\n",
    "\n",
    "while(no!=0):\n",
    "    digit=(no%10)\n",
    "    \n",
    "    if(digit==9):\n",
    "        digit=0.0\n",
    "    else:\n",
    "        digit=digit+1\n",
    "    \n",
    "    ans=ans+(digit*mul)\n",
    "    mul=mul*10\n",
    "    \n",
    "    no=no//10\n",
    "print(ans)"
   ]
  },
  {
   "cell_type": "code",
   "execution_count": 7,
   "metadata": {},
   "outputs": [
    {
     "name": "stdout",
     "output_type": "stream",
     "text": [
      "enter a num23\n",
      "happy number\n"
     ]
    }
   ],
   "source": [
    "no = int(input(\"enter a num\"))\n",
    "ans=0\n",
    "while(no!=1)and(no!=4):\n",
    "    ans=0\n",
    "    while(no!=0):\n",
    "        digit=no%10\n",
    "        ans = ans+(digit**2)\n",
    "        no=no//10\n",
    "    no=ans\n",
    "if(no==1):\n",
    "    print(\"happy number\")\n",
    "else:\n",
    "    print(\"not happy number\")"
   ]
  },
  {
   "cell_type": "code",
   "execution_count": null,
   "metadata": {},
   "outputs": [],
   "source": []
  },
  {
   "cell_type": "code",
   "execution_count": null,
   "metadata": {},
   "outputs": [],
   "source": []
  }
 ],
 "metadata": {
  "kernelspec": {
   "display_name": "Python 3",
   "language": "python",
   "name": "python3"
  },
  "language_info": {
   "codemirror_mode": {
    "name": "ipython",
    "version": 3
   },
   "file_extension": ".py",
   "mimetype": "text/x-python",
   "name": "python",
   "nbconvert_exporter": "python",
   "pygments_lexer": "ipython3",
   "version": "3.8.5"
  }
 },
 "nbformat": 4,
 "nbformat_minor": 4
}
