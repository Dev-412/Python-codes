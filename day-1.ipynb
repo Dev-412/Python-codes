{
 "cells": [
  {
   "cell_type": "code",
   "execution_count": 28,
   "metadata": {},
   "outputs": [
    {
     "name": "stdout",
     "output_type": "stream",
     "text": [
      "enter days390\n",
      "year = 1 month = 1 days= 0\n"
     ]
    }
   ],
   "source": [
    "days =int(input(\"enter days\"))\n",
    "month =((days%360)/30)\n",
    "print(f\"year = {days//360} month = {(days%360)//30} days= {(days%360)%30}\")"
   ]
  },
  {
   "cell_type": "code",
   "execution_count": 31,
   "metadata": {},
   "outputs": [
    {
     "name": "stdout",
     "output_type": "stream",
     "text": [
      "Enter three digit no: 125\n",
      "8\n"
     ]
    }
   ],
   "source": [
    "no = int(input(\"Enter three digit no: \"))\n",
    "sum=0\n",
    "while(no!=0):\n",
    "    temp = no%10\n",
    "    sum = sum+temp\n",
    "    no=no//10\n",
    "\n",
    "print(sum)"
   ]
  },
  {
   "cell_type": "code",
   "execution_count": null,
   "metadata": {},
   "outputs": [],
   "source": []
  }
 ],
 "metadata": {
  "kernelspec": {
   "display_name": "Python 3",
   "language": "python",
   "name": "python3"
  },
  "language_info": {
   "codemirror_mode": {
    "name": "ipython",
    "version": 3
   },
   "file_extension": ".py",
   "mimetype": "text/x-python",
   "name": "python",
   "nbconvert_exporter": "python",
   "pygments_lexer": "ipython3",
   "version": "3.8.5"
  }
 },
 "nbformat": 4,
 "nbformat_minor": 4
}
