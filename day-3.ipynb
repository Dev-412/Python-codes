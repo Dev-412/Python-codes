{
 "cells": [
  {
   "cell_type": "code",
   "execution_count": null,
   "metadata": {},
   "outputs": [],
   "source": [
    "sum1=0\n",
    "count=0\n",
    "\n",
    "while True:\n",
    "    n =input(\"enter num or q for exit\")\n",
    "    if(n==\"q\"):\n",
    "        break\n",
    "    else:\n",
    "        n=int(n)\n",
    "        sum1=sum1+n\n",
    "        count=count+1\n",
    "print(f\"sum={sum1} count={count} avg={int(sum1/count)}\")"
   ]
  },
  {
   "cell_type": "code",
   "execution_count": null,
   "metadata": {},
   "outputs": [],
   "source": [
    "sumodd=0\n",
    "sumeven=0\n",
    "oddcount=0\n",
    "evencount=0\n",
    "\n",
    "while True:\n",
    "    n =input(\"enter num or q for exit\")\n",
    "    if(n==\"q\"):\n",
    "        break\n",
    "    else:\n",
    "        n=int(n)\n",
    "        if(n%2==0):\n",
    "            sumeven=sumeven+n\n",
    "            evencount=evencount+1\n",
    "        else:\n",
    "            sumodd=sumodd+n\n",
    "            oddcount=oddcount+1\n",
    "\n",
    "print(f\"odd avg={int(sumodd/oddcount)} even avg={int(sumeven/evencount)}\")"
   ]
  },
  {
   "cell_type": "code",
   "execution_count": null,
   "metadata": {},
   "outputs": [],
   "source": [
    "sum1=0\n",
    "count=0\n",
    "Max=0\n",
    "n =input(\"enter num or q for exit\")\n",
    "Min=int(n)\n",
    "\n",
    "while True:\n",
    "    \n",
    "    if(n==\"q\"):\n",
    "        break\n",
    "    else:\n",
    "        n=int(n)\n",
    "        if(n>Max):\n",
    "            Max=n\n",
    "        if(n<Min):\n",
    "            Min=n\n",
    "        n =input(\"enter num or q for exit\")\n",
    "        \n",
    "print(f\"max={Max} min={Min}\")"
   ]
  },
  {
   "cell_type": "code",
   "execution_count": null,
   "metadata": {},
   "outputs": [],
   "source": [
    "sum1=0\n",
    "count=0\n",
    "n =input(\"enter num or q for exit\")\n",
    "max1=0\n",
    "max2=0\n",
    "\n",
    "while True:\n",
    "    \n",
    "    if(n==\"q\"):\n",
    "        break\n",
    "    else:\n",
    "        n=int(n)\n",
    "        if(n>max1):\n",
    "            max2=max1\n",
    "            max1=n\n",
    "        elif(n>max2 and max2!=max1):\n",
    "            max2=n\n",
    "            \n",
    "        n =input(\"enter num or q for exit\")\n",
    "        \n",
    "print(f\"max={max1} max2={max2}\")"
   ]
  },
  {
   "cell_type": "code",
   "execution_count": null,
   "metadata": {},
   "outputs": [],
   "source": [
    "sum1=0\n",
    "count=0\n",
    "n =input(\"enter num or q for exit\")\n",
    "omax1=0\n",
    "omax2=0\n",
    "emax1=0\n",
    "emax2=0\n",
    "\n",
    "while True:\n",
    "    n =input(\"enter num or q for exit\")\n",
    "    if(n==\"q\"):\n",
    "        break\n",
    "    else:\n",
    "        n=int(n)\n",
    "        if(n%2==0):\n",
    "            if(n>max1):\n",
    "                emax2=emax1\n",
    "                emax1=n\n",
    "            elif(n>emax2 and emax2!=emax1):\n",
    "                emax2=n\n",
    "        else:\n",
    "            if(n>omax1):\n",
    "                omax2=omax1\n",
    "                omax1=n\n",
    "            elif(n>omax2 and max2!=omax1):\n",
    "                omax2=n\n",
    "        \n",
    "        \n",
    "print(f\"max={emax1} max2={emax2}\")\n",
    "print(f\"max={omax1} max2={omax2}\")"
   ]
  },
  {
   "cell_type": "code",
   "execution_count": 17,
   "metadata": {},
   "outputs": [
    {
     "name": "stdout",
     "output_type": "stream",
     "text": [
      "enter a num89\n",
      "0\n"
     ]
    }
   ],
   "source": []
  },
  {
   "cell_type": "code",
   "execution_count": null,
   "metadata": {},
   "outputs": [],
   "source": []
  }
 ],
 "metadata": {
  "kernelspec": {
   "display_name": "Python 3",
   "language": "python",
   "name": "python3"
  },
  "language_info": {
   "codemirror_mode": {
    "name": "ipython",
    "version": 3
   },
   "file_extension": ".py",
   "mimetype": "text/x-python",
   "name": "python",
   "nbconvert_exporter": "python",
   "pygments_lexer": "ipython3",
   "version": "3.8.5"
  }
 },
 "nbformat": 4,
 "nbformat_minor": 4
}
